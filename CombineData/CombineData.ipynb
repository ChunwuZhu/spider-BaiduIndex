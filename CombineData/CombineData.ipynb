{
 "cells": [
  {
   "cell_type": "code",
   "execution_count": 15,
   "metadata": {},
   "outputs": [],
   "source": [
    "import pandas\n",
    "import os\n",
    "import sys\n",
    "sys.path.insert(0,r'D:\\Chunwu\\spider-BaiduIndex\\qdata\\baidu_index')\n",
    "import config as cn\n",
    "\n",
    "path = r\"D:\\Chunwu\\spider-BaiduIndex\\data\"\n",
    "p = os.listdir(path)\n",
    "sublist = [item for item in p if item.startswith(r\"百度\")]"
   ]
  },
  {
   "cell_type": "code",
   "execution_count": 16,
   "metadata": {},
   "outputs": [
    {
     "name": "stdout",
     "output_type": "stream",
     "text": [
      "['百度_100_index.xlsx', '百度_101_index.xlsx', '百度_102_index.xlsx', '百度_103_index.xlsx', '百度_104_index.xlsx', '百度_106_index.xlsx', '百度_107_index.xlsx', '百度_108_index.xlsx', '百度_109_index.xlsx', '百度_10_index.xlsx', '百度_111_index.xlsx', '百度_112_index.xlsx', '百度_113_index.xlsx', '百度_114_index.xlsx', '百度_115_index.xlsx', '百度_117_index.xlsx', '百度_118_index.xlsx', '百度_119_index.xlsx', '百度_123_index.xlsx', '百度_124_index.xlsx', '百度_125_index.xlsx', '百度_126_index.xlsx', '百度_127_index.xlsx', '百度_128_index.xlsx', '百度_129_index.xlsx', '百度_130_index.xlsx', '百度_131_index.xlsx', '百度_132_index.xlsx', '百度_133_index.xlsx', '百度_134_index.xlsx', '百度_135_index.xlsx', '百度_136_index.xlsx', '百度_137_index.xlsx', '百度_138_index.xlsx', '百度_139_index.xlsx', '百度_13_index.xlsx', '百度_140_index.xlsx', '百度_141_index.xlsx', '百度_143_index.xlsx', '百度_144_index.xlsx', '百度_145_index.xlsx', '百度_146_index.xlsx', '百度_147_index.xlsx', '百度_148_index.xlsx', '百度_149_index.xlsx', '百度_14_index.xlsx', '百度_150_index.xlsx', '百度_151_index.xlsx', '百度_152_index.xlsx', '百度_153_index.xlsx', '百度_154_index.xlsx', '百度_155_index.xlsx', '百度_156_index.xlsx', '百度_157_index.xlsx', '百度_158_index.xlsx', '百度_159_index.xlsx', '百度_15_index.xlsx', '百度_160_index.xlsx', '百度_161_index.xlsx', '百度_162_index.xlsx', '百度_163_index.xlsx', '百度_165_index.xlsx', '百度_166_index.xlsx', '百度_168_index.xlsx', '百度_169_index.xlsx', '百度_16_index.xlsx', '百度_172_index.xlsx', '百度_173_index.xlsx', '百度_174_index.xlsx', '百度_175_index.xlsx', '百度_176_index.xlsx', '百度_177_index.xlsx', '百度_178_index.xlsx', '百度_179_index.xlsx', '百度_17_index.xlsx', '百度_181_index.xlsx', '百度_182_index.xlsx', '百度_183_index.xlsx', '百度_184_index.xlsx', '百度_185_index.xlsx', '百度_186_index.xlsx', '百度_187_index.xlsx', '百度_188_index.xlsx', '百度_189_index.xlsx', '百度_191_index.xlsx', '百度_194_index.xlsx', '百度_195_index.xlsx', '百度_196_index.xlsx', '百度_197_index.xlsx', '百度_198_index.xlsx', '百度_199_index.xlsx', '百度_19_index.xlsx', '百度_1_index.xlsx', '百度_200_index.xlsx', '百度_201_index.xlsx', '百度_202_index.xlsx', '百度_203_index.xlsx', '百度_204_index.xlsx', '百度_205_index.xlsx', '百度_207_index.xlsx', '百度_208_index.xlsx', '百度_209_index.xlsx', '百度_20_index.xlsx', '百度_210_index.xlsx', '百度_211_index.xlsx', '百度_212_index.xlsx', '百度_213_index.xlsx', '百度_215_index.xlsx', '百度_216_index.xlsx', '百度_217_index.xlsx', '百度_218_index.xlsx', '百度_219_index.xlsx', '百度_21_index.xlsx', '百度_220_index.xlsx', '百度_221_index.xlsx', '百度_222_index.xlsx', '百度_223_index.xlsx', '百度_224_index.xlsx', '百度_225_index.xlsx', '百度_226_index.xlsx', '百度_227_index.xlsx', '百度_228_index.xlsx', '百度_229_index.xlsx', '百度_22_index.xlsx', '百度_230_index.xlsx', '百度_231_index.xlsx', '百度_232_index.xlsx', '百度_233_index.xlsx', '百度_234_index.xlsx', '百度_235_index.xlsx', '百度_236_index.xlsx', '百度_237_index.xlsx', '百度_239_index.xlsx', '百度_241_index.xlsx', '百度_242_index.xlsx', '百度_243_index.xlsx', '百度_244_index.xlsx', '百度_246_index.xlsx', '百度_253_index.xlsx', '百度_256_index.xlsx', '百度_259_index.xlsx', '百度_25_index.xlsx', '百度_261_index.xlsx', '百度_262_index.xlsx', '百度_263_index.xlsx', '百度_264_index.xlsx', '百度_265_index.xlsx', '百度_266_index.xlsx', '百度_268_index.xlsx', '百度_269_index.xlsx', '百度_270_index.xlsx', '百度_271_index.xlsx', '百度_272_index.xlsx', '百度_273_index.xlsx', '百度_274_index.xlsx', '百度_275_index.xlsx', '百度_276_index.xlsx', '百度_277_index.xlsx', '百度_278_index.xlsx', '百度_280_index.xlsx', '百度_281_index.xlsx', '百度_282_index.xlsx', '百度_283_index.xlsx', '百度_284_index.xlsx', '百度_285_index.xlsx', '百度_286_index.xlsx', '百度_287_index.xlsx', '百度_288_index.xlsx', '百度_289_index.xlsx', '百度_28_index.xlsx', '百度_291_index.xlsx', '百度_292_index.xlsx', '百度_293_index.xlsx', '百度_295_index.xlsx', '百度_297_index.xlsx', '百度_29_index.xlsx', '百度_2_index.xlsx', '百度_300_index.xlsx', '百度_301_index.xlsx', '百度_302_index.xlsx', '百度_303_index.xlsx', '百度_304_index.xlsx', '百度_305_index.xlsx', '百度_306_index.xlsx', '百度_307_index.xlsx', '百度_308_index.xlsx', '百度_309_index.xlsx', '百度_30_index.xlsx', '百度_310_index.xlsx', '百度_311_index.xlsx', '百度_312_index.xlsx', '百度_315_index.xlsx', '百度_317_index.xlsx', '百度_318_index.xlsx', '百度_319_index.xlsx', '百度_31_index.xlsx', '百度_320_index.xlsx', '百度_322_index.xlsx', '百度_323_index.xlsx', '百度_324_index.xlsx', '百度_32_index.xlsx', '百度_331_index.xlsx', '百度_333_index.xlsx', '百度_334_index.xlsx', '百度_335_index.xlsx', '百度_337_index.xlsx', '百度_339_index.xlsx', '百度_33_index.xlsx', '百度_342_index.xlsx', '百度_343_index.xlsx', '百度_344_index.xlsx', '百度_346_index.xlsx', '百度_34_index.xlsx', '百度_350_index.xlsx', '百度_352_index.xlsx', '百度_353_index.xlsx', '百度_356_index.xlsx', '百度_359_index.xlsx', '百度_35_index.xlsx', '百度_366_index.xlsx', '百度_36_index.xlsx', '百度_370_index.xlsx', '百度_371_index.xlsx', '百度_373_index.xlsx', '百度_374_index.xlsx', '百度_375_index.xlsx', '百度_376_index.xlsx', '百度_378_index.xlsx', '百度_379_index.xlsx', '百度_37_index.xlsx', '百度_380_index.xlsx', '百度_381_index.xlsx', '百度_383_index.xlsx', '百度_384_index.xlsx', '百度_386_index.xlsx', '百度_38_index.xlsx', '百度_391_index.xlsx', '百度_395_index.xlsx', '百度_396_index.xlsx', '百度_39_index.xlsx', '百度_3_index.xlsx', '百度_401_index.xlsx', '百度_405_index.xlsx', '百度_407_index.xlsx', '百度_408_index.xlsx', '百度_40_index.xlsx', '百度_410_index.xlsx', '百度_417_index.xlsx', '百度_41_index.xlsx', '百度_422_index.xlsx', '百度_424_index.xlsx', '百度_426_index.xlsx', '百度_42_index.xlsx', '百度_437_index.xlsx', '百度_438_index.xlsx', '百度_43_index.xlsx', '百度_44_index.xlsx', '百度_456_index.xlsx', '百度_457_index.xlsx', '百度_45_index.xlsx', '百度_466_index.xlsx', '百度_467_index.xlsx', '百度_46_index.xlsx', '百度_472_index.xlsx', '百度_479_index.xlsx', '百度_47_index.xlsx', '百度_480_index.xlsx', '百度_48_index.xlsx', '百度_499_index.xlsx', '百度_49_index.xlsx', '百度_4_index.xlsx', '百度_506_index.xlsx', '百度_50_index.xlsx', '百度_516_index.xlsx', '百度_51_index.xlsx', '百度_520_index.xlsx', '百度_525_index.xlsx', '百度_52_index.xlsx', '百度_53_index.xlsx', '百度_54_index.xlsx', '百度_55_index.xlsx', '百度_563_index.xlsx', '百度_56_index.xlsx', '百度_582_index.xlsx', '百度_588_index.xlsx', '百度_59_index.xlsx', '百度_5_index.xlsx', '百度_608_index.xlsx', '百度_61_index.xlsx', '百度_652_index.xlsx', '百度_653_index.xlsx', '百度_655_index.xlsx', '百度_656_index.xlsx', '百度_659_index.xlsx', '百度_65_index.xlsx', '百度_661_index.xlsx', '百度_665_index.xlsx', '百度_666_index.xlsx', '百度_667_index.xlsx', '百度_668_index.xlsx', '百度_669_index.xlsx', '百度_66_index.xlsx', '百度_670_index.xlsx', '百度_671_index.xlsx', '百度_672_index.xlsx', '百度_673_index.xlsx', '百度_674_index.xlsx', '百度_675_index.xlsx', '百度_676_index.xlsx', '百度_677_index.xlsx', '百度_678_index.xlsx', '百度_679_index.xlsx', '百度_67_index.xlsx', '百度_680_index.xlsx', '百度_681_index.xlsx', '百度_682_index.xlsx', '百度_683_index.xlsx', '百度_684_index.xlsx', '百度_685_index.xlsx', '百度_686_index.xlsx', '百度_687_index.xlsx', '百度_688_index.xlsx', '百度_689_index.xlsx', '百度_68_index.xlsx', '百度_690_index.xlsx', '百度_691_index.xlsx', '百度_692_index.xlsx', '百度_693_index.xlsx', '百度_6_index.xlsx', '百度_73_index.xlsx', '百度_74_index.xlsx', '百度_76_index.xlsx', '百度_77_index.xlsx', '百度_78_index.xlsx', '百度_79_index.xlsx', '百度_7_index.xlsx', '百度_80_index.xlsx', '百度_81_index.xlsx', '百度_82_index.xlsx', '百度_83_index.xlsx', '百度_84_index.xlsx', '百度_85_index.xlsx', '百度_86_index.xlsx', '百度_87_index.xlsx', '百度_88_index.xlsx', '百度_89_index.xlsx', '百度_8_index.xlsx', '百度_904_index.xlsx', '百度_90_index.xlsx', '百度_910_index.xlsx', '百度_911_index.xlsx', '百度_91_index.xlsx', '百度_923_index.xlsx', '百度_92_index.xlsx', '百度_93_index.xlsx', '百度_94_index.xlsx', '百度_95_index.xlsx', '百度_96_index.xlsx', '百度_97_index.xlsx', '百度_98_index.xlsx', '百度_99_index.xlsx', '百度_9_index.xlsx']\n"
     ]
    }
   ],
   "source": [
    "print(sublist)"
   ]
  },
  {
   "cell_type": "code",
   "execution_count": 17,
   "metadata": {},
   "outputs": [
    {
     "name": "stdout",
     "output_type": "stream",
     "text": [
      "127\n"
     ]
    },
    {
     "ename": "",
     "evalue": "",
     "output_type": "error",
     "traceback": [
      "\u001b[1;31mThe Kernel crashed while executing code in the current cell or a previous cell. \n",
      "\u001b[1;31mPlease review the code in the cell(s) to identify a possible cause of the failure. \n",
      "\u001b[1;31mClick <a href='https://aka.ms/vscodeJupyterKernelCrash'>here</a> for more info. \n",
      "\u001b[1;31mView Jupyter <a href='command:jupyter.viewOutput'>log</a> for further details."
     ]
    }
   ],
   "source": [
    "## reverse city key and value\n",
    "DtCity = {v:k for k,v in cn.CITY_CODE.items()}\n",
    "print(len(DtCity))"
   ]
  },
  {
   "cell_type": "code",
   "execution_count": 14,
   "metadata": {},
   "outputs": [
    {
     "ename": "KeyError",
     "evalue": "'100'",
     "output_type": "error",
     "traceback": [
      "\u001b[1;31m---------------------------------------------------------------------------\u001b[0m",
      "\u001b[1;31mKeyError\u001b[0m                                  Traceback (most recent call last)",
      "Cell \u001b[1;32mIn[14], line 2\u001b[0m\n\u001b[0;32m      1\u001b[0m df \u001b[38;5;241m=\u001b[39m pandas\u001b[38;5;241m.\u001b[39mread_excel(path\u001b[38;5;241m+\u001b[39m\u001b[38;5;124mr\u001b[39m\u001b[38;5;124m\"\u001b[39m\u001b[38;5;130;01m\\\\\u001b[39;00m\u001b[38;5;124m\"\u001b[39m\u001b[38;5;241m+\u001b[39msublist[\u001b[38;5;241m0\u001b[39m])\n\u001b[1;32m----> 2\u001b[0m df[\u001b[38;5;124m'\u001b[39m\u001b[38;5;124mcity\u001b[39m\u001b[38;5;124m'\u001b[39m] \u001b[38;5;241m=\u001b[39m \u001b[43mDtCity\u001b[49m\u001b[43m[\u001b[49m\u001b[43msublist\u001b[49m\u001b[43m[\u001b[49m\u001b[38;5;241;43m0\u001b[39;49m\u001b[43m]\u001b[49m\u001b[38;5;241;43m.\u001b[39;49m\u001b[43msplit\u001b[49m\u001b[43m(\u001b[49m\u001b[38;5;124;43m'\u001b[39;49m\u001b[38;5;124;43m_\u001b[39;49m\u001b[38;5;124;43m'\u001b[39;49m\u001b[43m)\u001b[49m\u001b[43m[\u001b[49m\u001b[38;5;241;43m1\u001b[39;49m\u001b[43m]\u001b[49m\u001b[43m]\u001b[49m\n\u001b[0;32m      3\u001b[0m df \u001b[38;5;241m=\u001b[39m df[ df[\u001b[38;5;124m'\u001b[39m\u001b[38;5;124mtype\u001b[39m\u001b[38;5;124m'\u001b[39m] \u001b[38;5;241m==\u001b[39m \u001b[38;5;124m\"\u001b[39m\u001b[38;5;124mall\u001b[39m\u001b[38;5;124m\"\u001b[39m]\n\u001b[0;32m      4\u001b[0m \u001b[38;5;66;03m# print(df.head())\u001b[39;00m\n",
      "\u001b[1;31mKeyError\u001b[0m: '100'"
     ]
    }
   ],
   "source": [
    "df = pandas.read_excel(path+r\"\\\\\"+sublist[0])\n",
    "df['city'] = DtCity[sublist[0].split('_')[1]]\n",
    "df = df[ df['type'] == \"all\"]\n",
    "# print(df.head())\n",
    "for sl in sublist[1:]:\n",
    "    print(sl)\n",
    "    dfTemp = pandas.read_excel(path+r\"\\\\\"+sl)\n",
    "    \n",
    "    dfTemp['city'] = DtCity[sl.split('_')[1]]\n",
    "    dfTemp = dfTemp[ dfTemp['type'] == \"all\"]\n",
    "    # print(dfTemp.head())\n",
    "    df = pandas.concat([df,dfTemp],ignore_index=True)\n",
    "\n",
    "df = df[[\"keyword\",\"date\",\"index\",'city']]\n",
    "# print(df.head())\n",
    "df.to_csv(r\"D:\\Chunwu\\spider-BaiduIndex\\CombineData\\Baidu1.csv\")\n"
   ]
  },
  {
   "cell_type": "code",
   "execution_count": null,
   "metadata": {},
   "outputs": [],
   "source": [
    "sublist = [item for item in p if item.startswith(r\"割腕\")]\n",
    "df = pandas.read_excel(path+r\"\\\\\"+sublist[0])\n",
    "df['city'] = DtCity[sublist[0].split('_')[1]]\n",
    "df = df[ df['type'] == \"all\"]\n",
    "\n",
    "for sl in sublist[1:]:\n",
    "    print(sl)\n",
    "    dfTemp = pandas.read_excel(path+r\"\\\\\"+sl)\n",
    "    dfTemp['city'] = DtCity[sl.split('_')[1]]\n",
    "    dfTemp = dfTemp[ dfTemp['type'] == \"all\"]\n",
    "    df = df.append(dfTemp)\n",
    "\n",
    "df = df[[\"keyword\",\"date\",\"index\",'city']]\n",
    "print(df.head())\n",
    "df.to_csv(r\"D:\\code\\spider-BaiduIndex\\CombineData\\gewan.csv\")\n",
    "\n",
    "sublist = [item for item in p if item.startswith(r\"安乐死\")]\n",
    "df = pandas.read_excel(path+r\"\\\\\"+sublist[0])\n",
    "df['city'] = DtCity[sublist[0].split('_')[1]]\n",
    "df = df[ df['type'] == \"all\"]\n",
    "\n",
    "for sl in sublist[1:]:\n",
    "    print(sl)\n",
    "    dfTemp = pandas.read_excel(path+r\"\\\\\"+sl)\n",
    "    dfTemp['city'] = DtCity[sl.split('_')[1]]\n",
    "    dfTemp = dfTemp[ dfTemp['type'] == \"all\"]\n",
    "    df = df.append(dfTemp)\n",
    "\n",
    "df = df[[\"keyword\",\"date\",\"index\",'city']]\n",
    "print(df.head())\n",
    "df.to_csv(r\"D:\\code\\spider-BaiduIndex\\CombineData\\anlesi.csv\")\n",
    "\n",
    "sublist = [item for item in p if item.startswith(r\"窒息\")]\n",
    "df = pandas.read_excel(path+r\"\\\\\"+sublist[0])\n",
    "df['city'] = DtCity[sublist[0].split('_')[1]]\n",
    "df = df[ df['type'] == \"all\"]\n",
    "\n",
    "for sl in sublist[1:]:\n",
    "    print(sl)\n",
    "    dfTemp = pandas.read_excel(path+r\"\\\\\"+sl)\n",
    "    dfTemp['city'] = DtCity[sl.split('_')[1]]\n",
    "    dfTemp = dfTemp[ dfTemp['type'] == \"all\"]\n",
    "    df = df.append(dfTemp)\n",
    "\n",
    "df = df[[\"keyword\",\"date\",\"index\",'city']]\n",
    "print(df.head())\n",
    "df.to_csv(r\"D:\\code\\spider-BaiduIndex\\CombineData\\zhixi.csv\")\n",
    "\n",
    "sublist = [item for item in p if item.startswith(r\"耶稣\")]\n",
    "df = pandas.read_excel(path+r\"\\\\\"+sublist[0])\n",
    "df['city'] = DtCity[sublist[0].split('_')[1]]\n",
    "df = df[ df['type'] == \"all\"]\n",
    "\n",
    "for sl in sublist[1:]:\n",
    "    print(sl)\n",
    "    dfTemp = pandas.read_excel(path+r\"\\\\\"+sl)\n",
    "    dfTemp['city'] = DtCity[sl.split('_')[1]]\n",
    "    dfTemp = dfTemp[ dfTemp['type'] == \"all\"]\n",
    "    df = df.append(dfTemp)\n",
    "\n",
    "df = df[[\"keyword\",\"date\",\"index\",'city']]\n",
    "print(df.head())\n",
    "df.to_csv(r\"D:\\code\\spider-BaiduIndex\\CombineData\\yesu.csv\")"
   ]
  },
  {
   "cell_type": "code",
   "execution_count": 7,
   "metadata": {},
   "outputs": [
    {
     "ename": "TypeError",
     "evalue": "len() takes exactly one argument (4 given)",
     "output_type": "error",
     "traceback": [
      "\u001b[1;31m---------------------------------------------------------------------------\u001b[0m",
      "\u001b[1;31mTypeError\u001b[0m                                 Traceback (most recent call last)",
      "\u001b[1;32md:\\code\\spider-BaiduIndex\\CombineData\\CombineData.ipynb Cell 5\u001b[0m in \u001b[0;36m<cell line: 9>\u001b[1;34m()\u001b[0m\n\u001b[0;32m      <a href='vscode-notebook-cell:/d%3A/code/spider-BaiduIndex/CombineData/CombineData.ipynb#X20sZmlsZQ%3D%3D?line=6'>7</a>\u001b[0m df3 \u001b[39m=\u001b[39m pandas\u001b[39m.\u001b[39mread_csv(path \u001b[39m+\u001b[39m\u001b[39m'\u001b[39m\u001b[39m\\\\\u001b[39;00m\u001b[39m'\u001b[39m\u001b[39m+\u001b[39mCSVs[\u001b[39m3\u001b[39m])\n\u001b[0;32m      <a href='vscode-notebook-cell:/d%3A/code/spider-BaiduIndex/CombineData/CombineData.ipynb#X20sZmlsZQ%3D%3D?line=7'>8</a>\u001b[0m df4 \u001b[39m=\u001b[39m pandas\u001b[39m.\u001b[39mread_csv(path \u001b[39m+\u001b[39m\u001b[39m'\u001b[39m\u001b[39m\\\\\u001b[39;00m\u001b[39m'\u001b[39m\u001b[39m+\u001b[39mCSVs[\u001b[39m4\u001b[39m])\n\u001b[1;32m----> <a href='vscode-notebook-cell:/d%3A/code/spider-BaiduIndex/CombineData/CombineData.ipynb#X20sZmlsZQ%3D%3D?line=8'>9</a>\u001b[0m \u001b[39mprint\u001b[39m(\u001b[39mlen\u001b[39;49m(df1,df2,df3,df4))\n",
      "\u001b[1;31mTypeError\u001b[0m: len() takes exactly one argument (4 given)"
     ]
    }
   ],
   "source": [
    "# print(os.listdir(r\"D:\\code\\spider-BaiduIndex\\CombineData\"))\n",
    "CSVs = ['anlesi.csv', 'gewan.csv', 'yesu.csv', 'zhixi.csv', 'zisha.csv']\n",
    "path = r\"D:\\code\\spider-BaiduIndex\\CombineData\"\n",
    "\n",
    "df1 = pandas.read_csv(path +'\\\\'+CSVs[0])\n",
    "df2 = pandas.read_csv(path +'\\\\'+CSVs[1])\n",
    "df3 = pandas.read_csv(path +'\\\\'+CSVs[3])\n",
    "df4 = pandas.read_csv(path +'\\\\'+CSVs[4])\n"
   ]
  },
  {
   "cell_type": "code",
   "execution_count": 13,
   "metadata": {},
   "outputs": [],
   "source": [
    "df5 = pandas.read_csv(path +'\\\\'+CSVs[2])"
   ]
  },
  {
   "cell_type": "code",
   "execution_count": 15,
   "metadata": {},
   "outputs": [
    {
     "name": "stdout",
     "output_type": "stream",
     "text": [
      "7989340 6409532 8017935 8023955 1608704\n"
     ]
    }
   ],
   "source": [
    "print(len(df1),len(df2),len(df3),len(df4),len(df5))"
   ]
  },
  {
   "cell_type": "code",
   "execution_count": 16,
   "metadata": {},
   "outputs": [
    {
     "name": "stdout",
     "output_type": "stream",
     "text": [
      "   Unnamed: 0 keyword        date  index city\n",
      "0           0     安乐死  2011-01-01      0   遂宁\n",
      "1           1     安乐死  2011-01-02      0   遂宁\n",
      "2           2     安乐死  2011-01-03      0   遂宁\n",
      "3           3     安乐死  2011-01-04      0   遂宁\n",
      "4           4     安乐死  2011-01-05      0   遂宁\n",
      "   Unnamed: 0 keyword        date  index city\n",
      "0           0      割腕  2011-01-01      0   遂宁\n",
      "1           1      割腕  2011-01-02      0   遂宁\n",
      "2           2      割腕  2011-01-03      0   遂宁\n",
      "3           3      割腕  2011-01-04      0   遂宁\n",
      "4           4      割腕  2011-01-05      0   遂宁\n",
      "   Unnamed: 0 keyword        date  index city\n",
      "0           0      窒息  2011-01-01      0   遂宁\n",
      "1           1      窒息  2011-01-02      0   遂宁\n",
      "2           2      窒息  2011-01-03      0   遂宁\n",
      "3           3      窒息  2011-01-04      0   遂宁\n",
      "4           4      窒息  2011-01-05      0   遂宁\n",
      "   Unnamed: 0 keyword        date  index city\n",
      "0           0      自杀  2011-01-01      0   遂宁\n",
      "1           1      自杀  2011-01-02      0   遂宁\n",
      "2           2      自杀  2011-01-03      0   遂宁\n",
      "3           3      自杀  2011-01-04      0   遂宁\n",
      "4           4      自杀  2011-01-05      0   遂宁\n",
      "   Unnamed: 0 keyword        date  index city\n",
      "0           0      耶稣  2011-01-01     57   遂宁\n",
      "1           1      耶稣  2011-01-02      0   遂宁\n",
      "2           2      耶稣  2011-01-03      0   遂宁\n",
      "3           3      耶稣  2011-01-04      0   遂宁\n",
      "4           4      耶稣  2011-01-05      0   遂宁\n"
     ]
    }
   ],
   "source": [
    "print(df1.head())\n",
    "print(df2.head())\n",
    "print(df3.head())\n",
    "print(df4.head())\n",
    "print(df5.head())"
   ]
  },
  {
   "cell_type": "code",
   "execution_count": 17,
   "metadata": {},
   "outputs": [
    {
     "data": {
      "text/html": [
       "<div>\n",
       "<style scoped>\n",
       "    .dataframe tbody tr th:only-of-type {\n",
       "        vertical-align: middle;\n",
       "    }\n",
       "\n",
       "    .dataframe tbody tr th {\n",
       "        vertical-align: top;\n",
       "    }\n",
       "\n",
       "    .dataframe thead th {\n",
       "        text-align: right;\n",
       "    }\n",
       "</style>\n",
       "<table border=\"1\" class=\"dataframe\">\n",
       "  <thead>\n",
       "    <tr style=\"text-align: right;\">\n",
       "      <th></th>\n",
       "      <th>keyword</th>\n",
       "      <th>date</th>\n",
       "      <th>index</th>\n",
       "      <th>city</th>\n",
       "    </tr>\n",
       "  </thead>\n",
       "  <tbody>\n",
       "    <tr>\n",
       "      <th>0</th>\n",
       "      <td>安乐死</td>\n",
       "      <td>2011-01-01</td>\n",
       "      <td>0</td>\n",
       "      <td>遂宁</td>\n",
       "    </tr>\n",
       "    <tr>\n",
       "      <th>1</th>\n",
       "      <td>安乐死</td>\n",
       "      <td>2011-01-02</td>\n",
       "      <td>0</td>\n",
       "      <td>遂宁</td>\n",
       "    </tr>\n",
       "    <tr>\n",
       "      <th>2</th>\n",
       "      <td>安乐死</td>\n",
       "      <td>2011-01-03</td>\n",
       "      <td>0</td>\n",
       "      <td>遂宁</td>\n",
       "    </tr>\n",
       "    <tr>\n",
       "      <th>3</th>\n",
       "      <td>安乐死</td>\n",
       "      <td>2011-01-04</td>\n",
       "      <td>0</td>\n",
       "      <td>遂宁</td>\n",
       "    </tr>\n",
       "    <tr>\n",
       "      <th>4</th>\n",
       "      <td>安乐死</td>\n",
       "      <td>2011-01-05</td>\n",
       "      <td>0</td>\n",
       "      <td>遂宁</td>\n",
       "    </tr>\n",
       "  </tbody>\n",
       "</table>\n",
       "</div>"
      ],
      "text/plain": [
       "  keyword        date  index city\n",
       "0     安乐死  2011-01-01      0   遂宁\n",
       "1     安乐死  2011-01-02      0   遂宁\n",
       "2     安乐死  2011-01-03      0   遂宁\n",
       "3     安乐死  2011-01-04      0   遂宁\n",
       "4     安乐死  2011-01-05      0   遂宁"
      ]
     },
     "execution_count": 17,
     "metadata": {},
     "output_type": "execute_result"
    }
   ],
   "source": [
    "df1 = df1.drop(columns=[\"Unnamed: 0\"])\n"
   ]
  },
  {
   "cell_type": "code",
   "execution_count": 18,
   "metadata": {},
   "outputs": [],
   "source": [
    "df2 = df2.drop(columns=[\"Unnamed: 0\"])\n",
    "df3 = df3.drop(columns=[\"Unnamed: 0\"])\n",
    "df4 = df4.drop(columns=[\"Unnamed: 0\"])\n",
    "df5 = df5.drop(columns=[\"Unnamed: 0\"])\n"
   ]
  },
  {
   "cell_type": "code",
   "execution_count": 20,
   "metadata": {},
   "outputs": [
    {
     "name": "stderr",
     "output_type": "stream",
     "text": [
      "C:\\Users\\wubin\\AppData\\Local\\Temp\\ipykernel_2060\\827380762.py:1: FutureWarning: The frame.append method is deprecated and will be removed from pandas in a future version. Use pandas.concat instead.\n",
      "  dfall = df1.append(df2)\n"
     ]
    },
    {
     "name": "stdout",
     "output_type": "stream",
     "text": [
      "14398872\n"
     ]
    }
   ],
   "source": [
    "dfall = df1.append(df2)\n",
    "print(len(dfall))"
   ]
  },
  {
   "cell_type": "code",
   "execution_count": 21,
   "metadata": {},
   "outputs": [
    {
     "name": "stderr",
     "output_type": "stream",
     "text": [
      "C:\\Users\\wubin\\AppData\\Local\\Temp\\ipykernel_2060\\3494058316.py:1: FutureWarning: The frame.append method is deprecated and will be removed from pandas in a future version. Use pandas.concat instead.\n",
      "  dfall = dfall.append(df3)\n",
      "C:\\Users\\wubin\\AppData\\Local\\Temp\\ipykernel_2060\\3494058316.py:2: FutureWarning: The frame.append method is deprecated and will be removed from pandas in a future version. Use pandas.concat instead.\n",
      "  dfall = dfall.append(df4)\n",
      "C:\\Users\\wubin\\AppData\\Local\\Temp\\ipykernel_2060\\3494058316.py:3: FutureWarning: The frame.append method is deprecated and will be removed from pandas in a future version. Use pandas.concat instead.\n",
      "  dfall = dfall.append(df5)\n"
     ]
    }
   ],
   "source": [
    "dfall = dfall.append(df3)\n",
    "dfall = dfall.append(df4)\n",
    "dfall = dfall.append(df5)"
   ]
  },
  {
   "cell_type": "code",
   "execution_count": 28,
   "metadata": {},
   "outputs": [
    {
     "name": "stdout",
     "output_type": "stream",
     "text": [
      "32049466\n"
     ]
    }
   ],
   "source": [
    "print(len(dfall))"
   ]
  },
  {
   "cell_type": "code",
   "execution_count": 27,
   "metadata": {},
   "outputs": [],
   "source": [
    "dfall['year'] = dfall['date'].str[:4]"
   ]
  },
  {
   "cell_type": "code",
   "execution_count": 30,
   "metadata": {},
   "outputs": [],
   "source": [
    "dfall.to_csv(r\"D:\\code\\spider-BaiduIndex\\CombineData\\all.csv\")"
   ]
  },
  {
   "cell_type": "code",
   "execution_count": 31,
   "metadata": {},
   "outputs": [
    {
     "data": {
      "text/html": [
       "<div>\n",
       "<style scoped>\n",
       "    .dataframe tbody tr th:only-of-type {\n",
       "        vertical-align: middle;\n",
       "    }\n",
       "\n",
       "    .dataframe tbody tr th {\n",
       "        vertical-align: top;\n",
       "    }\n",
       "\n",
       "    .dataframe thead th {\n",
       "        text-align: right;\n",
       "    }\n",
       "</style>\n",
       "<table border=\"1\" class=\"dataframe\">\n",
       "  <thead>\n",
       "    <tr style=\"text-align: right;\">\n",
       "      <th></th>\n",
       "      <th>keyword</th>\n",
       "      <th>date</th>\n",
       "      <th>index</th>\n",
       "      <th>city</th>\n",
       "      <th>year</th>\n",
       "    </tr>\n",
       "  </thead>\n",
       "  <tbody>\n",
       "    <tr>\n",
       "      <th>0</th>\n",
       "      <td>安乐死</td>\n",
       "      <td>2011-01-01</td>\n",
       "      <td>0</td>\n",
       "      <td>遂宁</td>\n",
       "      <td>2011</td>\n",
       "    </tr>\n",
       "    <tr>\n",
       "      <th>1</th>\n",
       "      <td>安乐死</td>\n",
       "      <td>2011-01-02</td>\n",
       "      <td>0</td>\n",
       "      <td>遂宁</td>\n",
       "      <td>2011</td>\n",
       "    </tr>\n",
       "    <tr>\n",
       "      <th>2</th>\n",
       "      <td>安乐死</td>\n",
       "      <td>2011-01-03</td>\n",
       "      <td>0</td>\n",
       "      <td>遂宁</td>\n",
       "      <td>2011</td>\n",
       "    </tr>\n",
       "    <tr>\n",
       "      <th>3</th>\n",
       "      <td>安乐死</td>\n",
       "      <td>2011-01-04</td>\n",
       "      <td>0</td>\n",
       "      <td>遂宁</td>\n",
       "      <td>2011</td>\n",
       "    </tr>\n",
       "    <tr>\n",
       "      <th>4</th>\n",
       "      <td>安乐死</td>\n",
       "      <td>2011-01-05</td>\n",
       "      <td>0</td>\n",
       "      <td>遂宁</td>\n",
       "      <td>2011</td>\n",
       "    </tr>\n",
       "  </tbody>\n",
       "</table>\n",
       "</div>"
      ],
      "text/plain": [
       "  keyword        date  index city  year\n",
       "0     安乐死  2011-01-01      0   遂宁  2011\n",
       "1     安乐死  2011-01-02      0   遂宁  2011\n",
       "2     安乐死  2011-01-03      0   遂宁  2011\n",
       "3     安乐死  2011-01-04      0   遂宁  2011\n",
       "4     安乐死  2011-01-05      0   遂宁  2011"
      ]
     },
     "execution_count": 31,
     "metadata": {},
     "output_type": "execute_result"
    }
   ],
   "source": [
    "dfall.head()"
   ]
  },
  {
   "attachments": {},
   "cell_type": "markdown",
   "metadata": {},
   "source": [
    "- 每年每个城市每个关键词的指数之和"
   ]
  },
  {
   "cell_type": "code",
   "execution_count": 32,
   "metadata": {},
   "outputs": [
    {
     "data": {
      "text/plain": [
       "keyword  year  city\n",
       "上吊       2011  七台河     228\n",
       "               万宁        0\n",
       "               三亚        0\n",
       "               三明      745\n",
       "               三门峡     344\n",
       "Name: index, dtype: int64"
      ]
     },
     "execution_count": 32,
     "metadata": {},
     "output_type": "execute_result"
    }
   ],
   "source": [
    "df_sum = dfall.groupby([\"keyword\",'year','city'])['index'].sum()\n",
    "df_sum.head()"
   ]
  },
  {
   "cell_type": "code",
   "execution_count": 33,
   "metadata": {},
   "outputs": [
    {
     "data": {
      "text/html": [
       "<div>\n",
       "<style scoped>\n",
       "    .dataframe tbody tr th:only-of-type {\n",
       "        vertical-align: middle;\n",
       "    }\n",
       "\n",
       "    .dataframe tbody tr th {\n",
       "        vertical-align: top;\n",
       "    }\n",
       "\n",
       "    .dataframe thead th {\n",
       "        text-align: right;\n",
       "    }\n",
       "</style>\n",
       "<table border=\"1\" class=\"dataframe\">\n",
       "  <thead>\n",
       "    <tr style=\"text-align: right;\">\n",
       "      <th></th>\n",
       "      <th>keyword</th>\n",
       "      <th>year</th>\n",
       "      <th>city</th>\n",
       "      <th>index</th>\n",
       "    </tr>\n",
       "  </thead>\n",
       "  <tbody>\n",
       "    <tr>\n",
       "      <th>0</th>\n",
       "      <td>上吊</td>\n",
       "      <td>2011</td>\n",
       "      <td>七台河</td>\n",
       "      <td>228</td>\n",
       "    </tr>\n",
       "    <tr>\n",
       "      <th>1</th>\n",
       "      <td>上吊</td>\n",
       "      <td>2011</td>\n",
       "      <td>万宁</td>\n",
       "      <td>0</td>\n",
       "    </tr>\n",
       "    <tr>\n",
       "      <th>2</th>\n",
       "      <td>上吊</td>\n",
       "      <td>2011</td>\n",
       "      <td>三亚</td>\n",
       "      <td>0</td>\n",
       "    </tr>\n",
       "    <tr>\n",
       "      <th>3</th>\n",
       "      <td>上吊</td>\n",
       "      <td>2011</td>\n",
       "      <td>三明</td>\n",
       "      <td>745</td>\n",
       "    </tr>\n",
       "    <tr>\n",
       "      <th>4</th>\n",
       "      <td>上吊</td>\n",
       "      <td>2011</td>\n",
       "      <td>三门峡</td>\n",
       "      <td>344</td>\n",
       "    </tr>\n",
       "  </tbody>\n",
       "</table>\n",
       "</div>"
      ],
      "text/plain": [
       "  keyword  year city  index\n",
       "0      上吊  2011  七台河    228\n",
       "1      上吊  2011   万宁      0\n",
       "2      上吊  2011   三亚      0\n",
       "3      上吊  2011   三明    745\n",
       "4      上吊  2011  三门峡    344"
      ]
     },
     "execution_count": 33,
     "metadata": {},
     "output_type": "execute_result"
    }
   ],
   "source": [
    "df_sum = df_sum.reset_index()\n",
    "df_sum.head()"
   ]
  },
  {
   "cell_type": "code",
   "execution_count": 34,
   "metadata": {},
   "outputs": [
    {
     "name": "stdout",
     "output_type": "stream",
     "text": [
      "94120\n"
     ]
    }
   ],
   "source": [
    "print(len(df_sum))"
   ]
  },
  {
   "cell_type": "code",
   "execution_count": 35,
   "metadata": {},
   "outputs": [],
   "source": [
    "df_sum.to_csv(r\"D:\\code\\spider-BaiduIndex\\CombineData\\keywords_sum.csv\")"
   ]
  },
  {
   "cell_type": "code",
   "execution_count": 10,
   "metadata": {},
   "outputs": [
    {
     "name": "stdout",
     "output_type": "stream",
     "text": [
      "4696\n"
     ]
    }
   ],
   "source": [
    "import pandas as pd\n",
    "df = pd.read_csv(r\"D:\\Chunwu\\spider-BaiduIndex\\CombineData\\Baidu.csv\")\n",
    "df['year'] = df['date'].str[:4]\n",
    "\n",
    "df_sum = df.groupby([\"keyword\",'year','city'])['index'].sum()\n",
    "print(len(df_sum))\n",
    "df_sum = df_sum.reset_index()\n",
    "df_sum.to_csv(r\"D:\\Chunwu\\spider-BaiduIndex\\CombineData\\keywords_sum_baidu.csv\", encoding=\"GBK\")\n"
   ]
  },
  {
   "cell_type": "code",
   "execution_count": null,
   "metadata": {},
   "outputs": [],
   "source": []
  },
  {
   "cell_type": "code",
   "execution_count": null,
   "metadata": {},
   "outputs": [],
   "source": []
  }
 ],
 "metadata": {
  "kernelspec": {
   "display_name": "Python 3",
   "language": "python",
   "name": "python3"
  },
  "language_info": {
   "codemirror_mode": {
    "name": "ipython",
    "version": 3
   },
   "file_extension": ".py",
   "mimetype": "text/x-python",
   "name": "python",
   "nbconvert_exporter": "python",
   "pygments_lexer": "ipython3",
   "version": "3.10.11"
  },
  "orig_nbformat": 4,
  "vscode": {
   "interpreter": {
    "hash": "d512e91e8f2167ea25848f846720a04a735230ce34b8a8cd41efb5524c975791"
   }
  }
 },
 "nbformat": 4,
 "nbformat_minor": 2
}
